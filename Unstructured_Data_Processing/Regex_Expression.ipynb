{
 "cells": [
  {
   "cell_type": "markdown",
   "metadata": {},
   "source": [
    "### How to use regex expression\n",
    "1. import re\n",
    "2. pattern = re.compile(r'regex expression')\n",
    "3. result = pattern.search('string')"
   ]
  },
  {
   "cell_type": "code",
   "execution_count": 1,
   "metadata": {},
   "outputs": [],
   "source": [
    "import re"
   ]
  },
  {
   "cell_type": "markdown",
   "metadata": {},
   "source": [
    "### Character Class\n",
    "1. \\d digit (number)\n",
    "2. \\w word character (letters & numbers)\n",
    "3. \\s Space characters (space,tab,\\n)\n",
    "4. \\D Non-digit\n",
    "5. \\W Non-word\n",
    "6. \\S Non-space"
   ]
  },
  {
   "cell_type": "markdown",
   "metadata": {},
   "source": [
    "### Create Character Classes\n",
    "1. Put character inside []\n",
    "2. [aeiouAEIOU] Matches vowels\n",
    "3. [^aeiouAEIOU] Matches vowels\n",
    "4. [0-9a-zA-Z] Same as \\w"
   ]
  },
  {
   "cell_type": "markdown",
   "metadata": {},
   "source": [
    "### Specifying Quantity\n",
    "1. \\d  One digit\n",
    "2. \\d? Zero or one digits\n",
    "3. \\d* Zero or one digits \n",
    "4. \\d+ One or more digits\n",
    "5. \\d{3}\n",
    "6. \\d{3,5}\n",
    "7. \\d{3,}"
   ]
  },
  {
   "cell_type": "markdown",
   "metadata": {},
   "source": [
    "### Escape\n",
    "when you want to find character like '.*()^$|?{}[]+'\n",
    "\n",
    "-> add '\\ ' + character"
   ]
  },
  {
   "cell_type": "code",
   "execution_count": 5,
   "metadata": {},
   "outputs": [],
   "source": [
    "#Example -- verify a phone number 415-280-1917\n",
    "pattern = re.compile(r'\\d{3}-\\d{3}-\\d{4}')\n",
    "mo = pattern.search('215-578-1825')\n",
    "mo.group()"
   ]
  },
  {
   "cell_type": "code",
   "execution_count": 11,
   "metadata": {},
   "outputs": [
    {
     "data": {
      "text/plain": [
       "'sayonara'"
      ]
     },
     "execution_count": 11,
     "metadata": {},
     "output_type": "execute_result"
    }
   ],
   "source": [
    "pat = re.compile(r'([^aeiou][aeiou])+')\n",
    "mo= pat.search('sayonara')\n",
    "mo.group()"
   ]
  },
  {
   "cell_type": "markdown",
   "metadata": {},
   "source": [
    "### Match Anything\n",
    "1. .* match anything with maximum length\n",
    "2. .*? match anything with least length  "
   ]
  },
  {
   "cell_type": "code",
   "execution_count": 12,
   "metadata": {},
   "outputs": [
    {
     "data": {
      "text/plain": [
       "'<in between angle> this is test>'"
      ]
     },
     "execution_count": 12,
     "metadata": {},
     "output_type": "execute_result"
    }
   ],
   "source": [
    "_str = 'looking for text <in between angle> this is test>'\n",
    "pat1 = re.compile(r'<.*>')\n",
    "pat2 = re.compile(r'<.*?>')\n",
    "\n",
    "mo1 = pat1.search(_str)\n",
    "mo2 = pat2.search(_str)\n",
    "\n",
    "mo1.group()"
   ]
  },
  {
   "cell_type": "code",
   "execution_count": 13,
   "metadata": {},
   "outputs": [
    {
     "data": {
      "text/plain": [
       "'<in between angle>'"
      ]
     },
     "execution_count": 13,
     "metadata": {},
     "output_type": "execute_result"
    }
   ],
   "source": [
    "mo2.group()"
   ]
  },
  {
   "cell_type": "markdown",
   "metadata": {},
   "source": [
    "### what regexes can't/shouldn't do\n",
    "1. Don't parse HTML with Regex\n",
    "2. A regex for strong passwords.\n",
    "    -Include lowercase.uppercase,numbers\n",
    "    -(Just use multiple regex)\n",
    "3. Regexes don't have variables or flow control"
   ]
  },
  {
   "cell_type": "code",
   "execution_count": null,
   "metadata": {},
   "outputs": [],
   "source": []
  }
 ],
 "metadata": {
  "kernelspec": {
   "display_name": "Python 3",
   "language": "python",
   "name": "python3"
  },
  "language_info": {
   "codemirror_mode": {
    "name": "ipython",
    "version": 3
   },
   "file_extension": ".py",
   "mimetype": "text/x-python",
   "name": "python",
   "nbconvert_exporter": "python",
   "pygments_lexer": "ipython3",
   "version": "3.7.3"
  }
 },
 "nbformat": 4,
 "nbformat_minor": 2
}
