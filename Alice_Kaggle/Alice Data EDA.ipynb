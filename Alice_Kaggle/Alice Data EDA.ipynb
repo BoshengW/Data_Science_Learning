{
 "cells": [
  {
   "cell_type": "code",
   "execution_count": 106,
   "metadata": {},
   "outputs": [],
   "source": [
    "import pandas as pd\n",
    "import pickle\n",
    "from sklearn.feature_extraction.text import CountVectorizer\n",
    "from sklearn.preprocessing import StandardScaler\n",
    "from sklearn.metrics import roc_auc_score\n",
    "from sklearn.linear_model import LogisticRegression\n",
    "import numpy as np\n",
    "\n",
    "import warnings\n"
   ]
  },
  {
   "cell_type": "code",
   "execution_count": 3,
   "metadata": {},
   "outputs": [],
   "source": [
    "alice_df = pd.read_csv(\"train_sessions.csv\", index_col='session_id', parse_dates=['time1'])\n",
    "test_df = pd.read_csv(\"test_sessions.csv\", index_col='session_id')"
   ]
  },
  {
   "cell_type": "code",
   "execution_count": 5,
   "metadata": {},
   "outputs": [],
   "source": [
    "# Data manipulation\n",
    "sites = ['site%s' %i for i in range(1,11)]\n",
    "alice_df[sites] = alice_df[sites].fillna(0).astype('int')\n",
    "test_df[sites] = test_df[sites].fillna(0).astype('int')\n",
    "# sort the data by time\n",
    "alice_df = alice_df.sort_values(by='time1', ascending=True)"
   ]
  },
  {
   "cell_type": "code",
   "execution_count": 6,
   "metadata": {},
   "outputs": [],
   "source": [
    "# Load websites dictionary\n",
    "with open(r'site_dic.pkl','rb') as input_file:\n",
    "    site_dict = pickle.load(input_file)\n",
    "\n",
    "# create dataframe with site # and site name\n",
    "site_df = pd.DataFrame({'site_id':list(site_dict.values()),'site_name': list(site_dict.keys())})"
   ]
  },
  {
   "cell_type": "code",
   "execution_count": 121,
   "metadata": {},
   "outputs": [],
   "source": [
    "# only use site feature\n",
    "# For text feature, we want to use test count as feature for training\n",
    "# ngram_range -> how many vocabulary for each element in matrix (1,3)-> 1 to 3 words\n",
    "# fit & fit_transform\n",
    "vectorizer = CountVectorizer(ngram_range=(1, 3), max_features=50000)\n",
    "\n",
    "alice_df[sites].fillna(0).to_csv('train_session_text.txt', sep=' ', index=None, header=None)\n",
    "test_df[sites].fillna(0).to_csv('test_session.txt', sep=' ', index=None, header=None)\n",
    "\n",
    "with open('train_session_text.txt') as input_train_file:\n",
    "    train_site_cnt_matrix = vectorizer.fit_transform(input_train_file)\n",
    "    \n",
    "with open('test_session.txt') as inp_test_file:\n",
    "    test_site_cnt_matrix = vectorizer.transform(inp_test_file)"
   ]
  },
  {
   "cell_type": "code",
   "execution_count": 114,
   "metadata": {},
   "outputs": [],
   "source": [
    "def get_auc_lr_valid(X, y, C=1.0, seed=17, ratio=0.9):\n",
    "    train_index = int(round(X.shape[0]*ratio))\n",
    "    X_train, y_train = X[:train_index], y[:train_index]\n",
    "    lr = LogisticRegression(random_state=seed, C=C, n_jobs=-1, solver='lbfgs',max_iter=500).fit(X_train, y_train)\n",
    "    y_predict = lr.predict_proba(X[train_index:])[:,1]\n",
    "    # Note: roc_auc_score input y_label and y-predict proba not binary value\n",
    "    roc_auc_val = roc_auc_score(y[train_index:], y_predict)\n",
    "    print('ROC value: {: .2f} %'.format(roc_auc_val*100))\n",
    "    \n",
    "    return lr\n",
    "    \n",
    "    \n",
    "def write_to_submission_file(predict_labels, out_file, target='target', index_label='session_id'):\n",
    "    predict_df = pd.DataFrame(predict_labels, index=np.arange(1,predict_labels.shape[0]+1), columns=[target])\n",
    "    predict_df.to_csv(out_file, index_label=index_label)   "
   ]
  },
  {
   "cell_type": "code",
   "execution_count": 120,
   "metadata": {},
   "outputs": [
    {
     "name": "stdout",
     "output_type": "stream",
     "text": [
      "ROC value:  91.33 %\n",
      "Wall time: 11.2 s\n"
     ]
    }
   ],
   "source": [
    "%%time\n",
    "y = alice_df['target'].values\n",
    "model = get_auc_lr_valid(train_site_cnt_matrix, y)\n",
    "\n",
    "\n"
   ]
  },
  {
   "cell_type": "code",
   "execution_count": 117,
   "metadata": {},
   "outputs": [],
   "source": [
    "model = LogisticRegression(random_state=17, C=1.0, n_jobs=-1, solver='lbfgs',max_iter=500).fit(train_site_cnt_matrix, y)\n",
    "y_test_predict = model.predict_proba(test_site_cnt_matrix)[:,1]\n",
    "write_to_submission_file(y_test_predict, 'BW_submission.csv')"
   ]
  },
  {
   "cell_type": "code",
   "execution_count": 111,
   "metadata": {},
   "outputs": [
    {
     "data": {
      "text/plain": [
       "(82797, 50000)"
      ]
     },
     "execution_count": 111,
     "metadata": {},
     "output_type": "execute_result"
    }
   ],
   "source": [
    "test_site_cnt_matrix.shape"
   ]
  },
  {
   "cell_type": "code",
   "execution_count": 118,
   "metadata": {},
   "outputs": [],
   "source": [
    "# Function for writing predictions to a file\n",
    "def write_to_submission_file(predicted_labels, out_file,\n",
    "                             target='target', index_label=\"session_id\"):\n",
    "    predicted_df = pd.DataFrame(predicted_labels,\n",
    "                                index = np.arange(1, predicted_labels.shape[0] + 1),\n",
    "                                columns=[target])\n",
    "    predicted_df.to_csv(out_file, index_label=index_label)\n"
   ]
  },
  {
   "cell_type": "code",
   "execution_count": 122,
   "metadata": {},
   "outputs": [],
   "source": [
    "# Train the model on the whole training data set\n",
    "# Use random_state=17 for reproducibility\n",
    "# Parameter C=1 by default, but here we set it explicitly\n",
    "lr = LogisticRegression(C=1.0, random_state=17, solver='lbfgs', max_iter=500).fit(train_site_cnt_matrix, y)\n",
    "\n",
    "# Make a prediction for test data set\n",
    "y_test = lr.predict_proba(test_site_cnt_matrix)[:, 1]\n",
    "\n",
    "# Write it to the file which could be submitted\n",
    "write_to_submission_file(y_test, 'baseline_1.csv')"
   ]
  },
  {
   "cell_type": "code",
   "execution_count": null,
   "metadata": {},
   "outputs": [],
   "source": []
  }
 ],
 "metadata": {
  "kernelspec": {
   "display_name": "Python 3",
   "language": "python",
   "name": "python3"
  },
  "language_info": {
   "codemirror_mode": {
    "name": "ipython",
    "version": 3
   },
   "file_extension": ".py",
   "mimetype": "text/x-python",
   "name": "python",
   "nbconvert_exporter": "python",
   "pygments_lexer": "ipython3",
   "version": "3.7.1"
  }
 },
 "nbformat": 4,
 "nbformat_minor": 2
}
