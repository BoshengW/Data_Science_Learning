{
 "cells": [
  {
   "cell_type": "code",
   "execution_count": 22,
   "metadata": {},
   "outputs": [],
   "source": [
    "import pandas as pd \n",
    "import numpy as np \n",
    "import scipy\n",
    "import matplotlib.pyplot as plt\n",
    "import seaborn as sns\n",
    "from sklearn.preprocessing import StandardScaler"
   ]
  },
  {
   "cell_type": "code",
   "execution_count": 2,
   "metadata": {},
   "outputs": [],
   "source": [
    "# read data with \n",
    "sites = ['site%d' %i for i in range(1,11)]\n",
    "times = ['time%d' %i for i in range(1,11)]\n",
    "\n",
    "train_df = pd.read_csv('train_sessions.csv', index_col='session_id', parse_dates=times)\n",
    "test_df = pd.read_csv('test_sessions.csv', index_col='session_id', parse_dates=times)\n",
    "pickle_file = 'site_dic.pkl'"
   ]
  },
  {
   "cell_type": "code",
   "execution_count": 3,
   "metadata": {},
   "outputs": [
    {
     "data": {
      "text/plain": [
       "((253561, 21), (82797, 20))"
      ]
     },
     "execution_count": 3,
     "metadata": {},
     "output_type": "execute_result"
    }
   ],
   "source": [
    "train_df.shape, test_df.shape"
   ]
  },
  {
   "cell_type": "markdown",
   "metadata": {},
   "source": [
    "## Data Cleaning First"
   ]
  },
  {
   "cell_type": "code",
   "execution_count": 4,
   "metadata": {},
   "outputs": [],
   "source": [
    "# NaN values\n",
    "train_df[sites] = train_df[sites].fillna(0)\n",
    "train_df[sites] = train_df[sites].astype(int)\n",
    "test_df[sites] = test_df[sites].fillna(0)\n",
    "test_df[sites] = test_df[sites].astype(int)\n",
    "\n",
    "train_df = train_df.sort_values(by='time1') # remove correlation with data order"
   ]
  },
  {
   "cell_type": "markdown",
   "metadata": {},
   "source": [
    "### Since we know data frame combine with site# & time# \n",
    "### let's see ratio between target and non-target\n"
   ]
  },
  {
   "cell_type": "code",
   "execution_count": 5,
   "metadata": {},
   "outputs": [
    {
     "data": {
      "text/plain": [
       "<matplotlib.axes._subplots.AxesSubplot at 0x2aa4eb99828>"
      ]
     },
     "execution_count": 5,
     "metadata": {},
     "output_type": "execute_result"
    },
    {
     "data": {
      "image/png": "[encoded data removed]",
      "text/plain": [
       "<Figure size 432x288 with 1 Axes>"
      ]
     },
     "metadata": {
      "needs_background": "light"
     },
     "output_type": "display_data"
    }
   ],
   "source": [
    "sns.countplot(train_df['target']) # this is a imbalance data"
   ]
  },
  {
   "cell_type": "markdown",
   "metadata": {},
   "source": [
    "## start focusing on sites feature"
   ]
  },
  {
   "cell_type": "code",
   "execution_count": 6,
   "metadata": {},
   "outputs": [],
   "source": [
    "# Let's see what is most freq website of Alice use\n",
    "Alice_df = train_df[train_df['target']==1]\n",
    "other_df = train_df[train_df['target']==0]\n",
    "top_sites_alice = pd.Series(Alice_df[sites].values.flatten()).value_counts().drop(labels=[0]).sort_values(ascending=False).head(20)\n",
    "top_sites_other = pd.Series(other_df[sites].values.flatten()).value_counts().drop(labels=[0]).sort_values(ascending=False).head(20)\n"
   ]
  },
  {
   "cell_type": "code",
   "execution_count": 7,
   "metadata": {},
   "outputs": [],
   "source": [
    "# unique session\n",
    "alice_unique_session = Alice_df[sites].apply(np.unique, axis=1).apply(len)"
   ]
  },
  {
   "cell_type": "code",
   "execution_count": 8,
   "metadata": {},
   "outputs": [],
   "source": [
    "def uniq_count(x):\n",
    "    uniq_array = np.unique(x)\n",
    "    uniq_ct = len(uniq_array)\n",
    "    if 0 in uniq_array:\n",
    "        uniq_ct-=1\n",
    "    return uniq_ct\n",
    "alice_unique_session = Alice_df[sites].apply(uniq_count, axis=1)\n",
    "other_unique_session = other_df[sites].apply(uniq_count, axis=1)\n",
    "\n"
   ]
  },
  {
   "cell_type": "code",
   "execution_count": 9,
   "metadata": {},
   "outputs": [],
   "source": [
    "unique_session = train_df[sites].apply(uniq_count, axis=1) # without NaN sites\n",
    "additional_feats = pd.DataFrame({'unique': unique_session})"
   ]
  },
  {
   "cell_type": "code",
   "execution_count": 10,
   "metadata": {},
   "outputs": [
    {
     "data": {
      "text/html": [
       "<div>\n",
       "<style scoped>\n",
       "    .dataframe tbody tr th:only-of-type {\n",
       "        vertical-align: middle;\n",
       "    }\n",
       "\n",
       "    .dataframe tbody tr th {\n",
       "        vertical-align: top;\n",
       "    }\n",
       "\n",
       "    .dataframe thead th {\n",
       "        text-align: right;\n",
       "    }\n",
       "</style>\n",
       "<table border=\"1\" class=\"dataframe\">\n",
       "  <thead>\n",
       "    <tr style=\"text-align: right;\">\n",
       "      <th></th>\n",
       "      <th>unique</th>\n",
       "    </tr>\n",
       "    <tr>\n",
       "      <th>session_id</th>\n",
       "      <th></th>\n",
       "    </tr>\n",
       "  </thead>\n",
       "  <tbody>\n",
       "    <tr>\n",
       "      <th>21669</th>\n",
       "      <td>2</td>\n",
       "    </tr>\n",
       "    <tr>\n",
       "      <th>54843</th>\n",
       "      <td>2</td>\n",
       "    </tr>\n",
       "    <tr>\n",
       "      <th>77292</th>\n",
       "      <td>6</td>\n",
       "    </tr>\n",
       "    <tr>\n",
       "      <th>114021</th>\n",
       "      <td>5</td>\n",
       "    </tr>\n",
       "    <tr>\n",
       "      <th>146670</th>\n",
       "      <td>6</td>\n",
       "    </tr>\n",
       "  </tbody>\n",
       "</table>\n",
       "</div>"
      ],
      "text/plain": [
       "            unique\n",
       "session_id        \n",
       "21669            2\n",
       "54843            2\n",
       "77292            6\n",
       "114021           5\n",
       "146670           6"
      ]
     },
     "execution_count": 10,
     "metadata": {},
     "output_type": "execute_result"
    }
   ],
   "source": [
    "additional_feats.head()"
   ]
  },
  {
   "cell_type": "code",
   "execution_count": 11,
   "metadata": {},
   "outputs": [
    {
     "data": {
      "text/plain": [
       "<matplotlib.axes._subplots.AxesSubplot at 0x2aa54f84518>"
      ]
     },
     "execution_count": 11,
     "metadata": {},
     "output_type": "execute_result"
    },
    {
     "data": {
      "image/png": "[encoded data removed]",
      "text/plain": [
       "<Figure size 864x432 with 2 Axes>"
      ]
     },
     "metadata": {
      "needs_background": "light"
     },
     "output_type": "display_data"
    }
   ],
   "source": [
    "_, ax = plt.subplots(ncols=2, figsize=(12,6))\n",
    "sns.countplot(other_unique_session, ax=ax[0])\n",
    "sns.countplot(alice_unique_session, ax=ax[1])"
   ]
  },
  {
   "cell_type": "code",
   "execution_count": 12,
   "metadata": {},
   "outputs": [],
   "source": [
    "alice_top20 = list(top_sites_alice.index)\n",
    "alice_top20.sort()\n",
    "other_top20 = list(top_sites_other.index)\n",
    "other_top20.sort()"
   ]
  },
  {
   "cell_type": "code",
   "execution_count": 13,
   "metadata": {},
   "outputs": [],
   "source": [
    "def have_top20_alice_sites(x, top20_sites):\n",
    "    uniq_session = set(np.unique(x))\n",
    "    have_top20_cnt = list(set(top20_sites) & uniq_session)\n",
    "    return len(have_top20_cnt)\n",
    "    \n",
    "    "
   ]
  },
  {
   "cell_type": "code",
   "execution_count": 14,
   "metadata": {},
   "outputs": [],
   "source": [
    "train_have_top20 = train_df[sites].apply(have_top20_alice_sites, top20_sites=alice_top20, axis=1)"
   ]
  },
  {
   "cell_type": "code",
   "execution_count": 15,
   "metadata": {},
   "outputs": [],
   "source": [
    "additional_feats['have_top20#'] = train_have_top20 "
   ]
  },
  {
   "cell_type": "code",
   "execution_count": 16,
   "metadata": {},
   "outputs": [
    {
     "data": {
      "text/html": [
       "<div>\n",
       "<style scoped>\n",
       "    .dataframe tbody tr th:only-of-type {\n",
       "        vertical-align: middle;\n",
       "    }\n",
       "\n",
       "    .dataframe tbody tr th {\n",
       "        vertical-align: top;\n",
       "    }\n",
       "\n",
       "    .dataframe thead th {\n",
       "        text-align: right;\n",
       "    }\n",
       "</style>\n",
       "<table border=\"1\" class=\"dataframe\">\n",
       "  <thead>\n",
       "    <tr style=\"text-align: right;\">\n",
       "      <th></th>\n",
       "      <th>unique</th>\n",
       "      <th>have_top20#</th>\n",
       "    </tr>\n",
       "    <tr>\n",
       "      <th>session_id</th>\n",
       "      <th></th>\n",
       "      <th></th>\n",
       "    </tr>\n",
       "  </thead>\n",
       "  <tbody>\n",
       "    <tr>\n",
       "      <th>21669</th>\n",
       "      <td>2</td>\n",
       "      <td>0</td>\n",
       "    </tr>\n",
       "    <tr>\n",
       "      <th>54843</th>\n",
       "      <td>2</td>\n",
       "      <td>0</td>\n",
       "    </tr>\n",
       "    <tr>\n",
       "      <th>77292</th>\n",
       "      <td>6</td>\n",
       "      <td>0</td>\n",
       "    </tr>\n",
       "    <tr>\n",
       "      <th>114021</th>\n",
       "      <td>5</td>\n",
       "      <td>0</td>\n",
       "    </tr>\n",
       "    <tr>\n",
       "      <th>146670</th>\n",
       "      <td>6</td>\n",
       "      <td>0</td>\n",
       "    </tr>\n",
       "  </tbody>\n",
       "</table>\n",
       "</div>"
      ],
      "text/plain": [
       "            unique  have_top20#\n",
       "session_id                     \n",
       "21669            2            0\n",
       "54843            2            0\n",
       "77292            6            0\n",
       "114021           5            0\n",
       "146670           6            0"
      ]
     },
     "execution_count": 16,
     "metadata": {},
     "output_type": "execute_result"
    }
   ],
   "source": [
    "additional_feats.head(5)"
   ]
  },
  {
   "cell_type": "markdown",
   "metadata": {},
   "source": [
    "## Start with time feature "
   ]
  },
  {
   "cell_type": "code",
   "execution_count": 17,
   "metadata": {},
   "outputs": [
    {
     "data": {
      "text/plain": [
       "<matplotlib.axes._subplots.AxesSubplot at 0x2aa50753208>"
      ]
     },
     "execution_count": 17,
     "metadata": {},
     "output_type": "execute_result"
    },
    {
     "data": {
      "image/png": "[encoded data removed]",
      "text/plain": [
       "<Figure size 720x432 with 2 Axes>"
      ]
     },
     "metadata": {
      "needs_background": "light"
     },
     "output_type": "display_data"
    }
   ],
   "source": [
    "# Let's see website usage time distribution for different people\n",
    "alice_session_start_time = Alice_df['time1'].apply(lambda ts: ts.hour).values\n",
    "other_session_start_time = other_df['time1'].apply(lambda ts: ts.hour).values\n",
    "\n",
    "_, ax = plt.subplots(ncols=2, figsize=(10,6))\n",
    "sns.countplot(other_session_start_time, ax=ax[0])\n",
    "sns.countplot(alice_session_start_time, ax=ax[1])\n",
    "# compare with alice and other people most people start to search website around 10\n",
    "# however alice usually start serach website at 12-13, and 16-18 looks like in lunch time or after working.\n",
    "# at the work time she doesn't like using website."
   ]
  },
  {
   "cell_type": "markdown",
   "metadata": {},
   "source": [
    "                                 Alice main activities focus on 12-13 & 16-18"
   ]
  },
  {
   "cell_type": "markdown",
   "metadata": {},
   "source": [
    "#### seperate start time at 4 zones"
   ]
  },
  {
   "cell_type": "code",
   "execution_count": 18,
   "metadata": {},
   "outputs": [],
   "source": [
    "session_start_time = train_df['time1'].apply(lambda ts: ts.hour).values\n",
    "\n",
    "morning = ((session_start_time>=7)&(session_start_time<=11)).astype('int')\n",
    "day = ((session_start_time>=12)&(session_start_time<=18)).astype('int')\n",
    "evening = ((session_start_time>=19)&(session_start_time<=23)).astype('int')\n",
    "night = ((session_start_time>=0)&(session_start_time<=6)).astype('int')"
   ]
  },
  {
   "cell_type": "code",
   "execution_count": 33,
   "metadata": {},
   "outputs": [],
   "source": [
    "additional_feats['morning'] = morning\n",
    "additional_feats['day'] = day\n",
    "additional_feats['evening'] = evening\n",
    "additional_feats['night'] = night\n",
    "additional_feats['start_hour'] = session_start_time"
   ]
  },
  {
   "cell_type": "markdown",
   "metadata": {},
   "source": [
    "#### time duration of each session"
   ]
  },
  {
   "cell_type": "code",
   "execution_count": 20,
   "metadata": {},
   "outputs": [],
   "source": [
    "durTime_train = (train_df[times].max(axis=1)-train_df[times].min(axis=1)).astype('timedelta64[s]').astype(int).values.reshape(-1,1)\n",
    "durTime_test = (test_df[times].max(axis=1)-test_df[times].min(axis=1)).astype('timedelta64[s]').astype(int).values.reshape(-1,1)\n",
    "\n",
    "## normalization\n",
    "additional_feats['duration'] = durTime_train"
   ]
  },
  {
   "cell_type": "markdown",
   "metadata": {},
   "source": [
    "#### Year/Month/weekday"
   ]
  },
  {
   "cell_type": "code",
   "execution_count": 23,
   "metadata": {},
   "outputs": [],
   "source": [
    "## add Y/M/D \n",
    "scaler = StandardScaler()\n",
    "train_weekday_feat = train_df[times]['time1'].apply(lambda ts: ts.weekday()).values.reshape(-1,1)\n",
    "train_yearmonth_feat = (train_df[times]['time1'].apply(lambda ts: ts.year*100+ts.month)/1e5).values.reshape(-1,1)\n",
    "train_month_feat = train_df[times]['time1'].apply(lambda ts: ts.month).values.reshape(-1,1)\n",
    "\n",
    "\n",
    "test_weekday_feat = test_df[times]['time1'].apply(lambda ts: ts.weekday()).values.reshape(-1,1)\n",
    "test_yearmonth_feat = (test_df[times]['time1'].apply(lambda ts: ts.year*100+ts.month)/1e5).values.reshape(-1,1)\n",
    "test_month_feat = test_df[times]['time1'].apply(lambda ts: ts.month).values.reshape(-1,1)"
   ]
  },
  {
   "cell_type": "code",
   "execution_count": 34,
   "metadata": {},
   "outputs": [],
   "source": [
    "additional_feats['day_of_week'] = train_weekday_feat\n",
    "additional_feats['yearmonth'] = train_yearmonth_feat\n",
    "additional_feats['train_month_feat'] = train_month_feat"
   ]
  },
  {
   "cell_type": "code",
   "execution_count": 35,
   "metadata": {},
   "outputs": [
    {
     "data": {
      "text/html": [
       "<div>\n",
       "<style scoped>\n",
       "    .dataframe tbody tr th:only-of-type {\n",
       "        vertical-align: middle;\n",
       "    }\n",
       "\n",
       "    .dataframe tbody tr th {\n",
       "        vertical-align: top;\n",
       "    }\n",
       "\n",
       "    .dataframe thead th {\n",
       "        text-align: right;\n",
       "    }\n",
       "</style>\n",
       "<table border=\"1\" class=\"dataframe\">\n",
       "  <thead>\n",
       "    <tr style=\"text-align: right;\">\n",
       "      <th></th>\n",
       "      <th>unique</th>\n",
       "      <th>have_top20#</th>\n",
       "      <th>morning</th>\n",
       "      <th>day</th>\n",
       "      <th>evening</th>\n",
       "      <th>night</th>\n",
       "      <th>start_hour</th>\n",
       "      <th>duration</th>\n",
       "      <th>day_of_week</th>\n",
       "      <th>yearmonth</th>\n",
       "      <th>train_month_feat</th>\n",
       "    </tr>\n",
       "    <tr>\n",
       "      <th>session_id</th>\n",
       "      <th></th>\n",
       "      <th></th>\n",
       "      <th></th>\n",
       "      <th></th>\n",
       "      <th></th>\n",
       "      <th></th>\n",
       "      <th></th>\n",
       "      <th></th>\n",
       "      <th></th>\n",
       "      <th></th>\n",
       "      <th></th>\n",
       "    </tr>\n",
       "  </thead>\n",
       "  <tbody>\n",
       "    <tr>\n",
       "      <th>21669</th>\n",
       "      <td>2</td>\n",
       "      <td>0</td>\n",
       "      <td>1</td>\n",
       "      <td>0</td>\n",
       "      <td>0</td>\n",
       "      <td>0</td>\n",
       "      <td>8</td>\n",
       "      <td>0</td>\n",
       "      <td>5</td>\n",
       "      <td>2.01301</td>\n",
       "      <td>1</td>\n",
       "    </tr>\n",
       "    <tr>\n",
       "      <th>54843</th>\n",
       "      <td>2</td>\n",
       "      <td>0</td>\n",
       "      <td>1</td>\n",
       "      <td>0</td>\n",
       "      <td>0</td>\n",
       "      <td>0</td>\n",
       "      <td>8</td>\n",
       "      <td>1786</td>\n",
       "      <td>5</td>\n",
       "      <td>2.01301</td>\n",
       "      <td>1</td>\n",
       "    </tr>\n",
       "    <tr>\n",
       "      <th>77292</th>\n",
       "      <td>6</td>\n",
       "      <td>0</td>\n",
       "      <td>1</td>\n",
       "      <td>0</td>\n",
       "      <td>0</td>\n",
       "      <td>0</td>\n",
       "      <td>8</td>\n",
       "      <td>4</td>\n",
       "      <td>5</td>\n",
       "      <td>2.01301</td>\n",
       "      <td>1</td>\n",
       "    </tr>\n",
       "    <tr>\n",
       "      <th>114021</th>\n",
       "      <td>5</td>\n",
       "      <td>0</td>\n",
       "      <td>1</td>\n",
       "      <td>0</td>\n",
       "      <td>0</td>\n",
       "      <td>0</td>\n",
       "      <td>8</td>\n",
       "      <td>3</td>\n",
       "      <td>5</td>\n",
       "      <td>2.01301</td>\n",
       "      <td>1</td>\n",
       "    </tr>\n",
       "    <tr>\n",
       "      <th>146670</th>\n",
       "      <td>6</td>\n",
       "      <td>0</td>\n",
       "      <td>1</td>\n",
       "      <td>0</td>\n",
       "      <td>0</td>\n",
       "      <td>0</td>\n",
       "      <td>8</td>\n",
       "      <td>2</td>\n",
       "      <td>5</td>\n",
       "      <td>2.01301</td>\n",
       "      <td>1</td>\n",
       "    </tr>\n",
       "  </tbody>\n",
       "</table>\n",
       "</div>"
      ],
      "text/plain": [
       "            unique  have_top20#  morning  day  evening  night  start_hour  \\\n",
       "session_id                                                                  \n",
       "21669            2            0        1    0        0      0           8   \n",
       "54843            2            0        1    0        0      0           8   \n",
       "77292            6            0        1    0        0      0           8   \n",
       "114021           5            0        1    0        0      0           8   \n",
       "146670           6            0        1    0        0      0           8   \n",
       "\n",
       "            duration  day_of_week  yearmonth  train_month_feat  \n",
       "session_id                                                      \n",
       "21669              0            5    2.01301                 1  \n",
       "54843           1786            5    2.01301                 1  \n",
       "77292              4            5    2.01301                 1  \n",
       "114021             3            5    2.01301                 1  \n",
       "146670             2            5    2.01301                 1  "
      ]
     },
     "execution_count": 35,
     "metadata": {},
     "output_type": "execute_result"
    }
   ],
   "source": [
    "additional_feats.head()"
   ]
  },
  {
   "cell_type": "markdown",
   "metadata": {},
   "source": [
    "#### Let's see if alice popular site is different in work day or weekend"
   ]
  },
  {
   "cell_type": "code",
   "execution_count": 41,
   "metadata": {},
   "outputs": [
    {
     "data": {
      "text/plain": [
       "<matplotlib.axes._subplots.AxesSubplot at 0x2aa55dbfac8>"
      ]
     },
     "execution_count": 41,
     "metadata": {},
     "output_type": "execute_result"
    },
    {
     "data": {
      "image/png": "[encoded data removed]",
      "text/plain": [
       "<Figure size 864x432 with 2 Axes>"
      ]
     },
     "metadata": {
      "needs_background": "light"
     },
     "output_type": "display_data"
    }
   ],
   "source": [
    "# use website freq vs. day of week\n",
    "alice_weekday = train_df[train_df['target']==1]['time1'].apply(lambda ts: ts.weekday())\n",
    "other_weekday = train_df[train_df['target']==0]['time1'].apply(lambda ts: ts.weekday())\n",
    "\n",
    "_, ax = plt.subplots(ncols=2, figsize=(12, 6))\n",
    "sns.countplot(alice_weekday, ax=ax[0])\n",
    "sns.countplot(other_weekday, ax=ax[1])"
   ]
  },
  {
   "cell_type": "markdown",
   "metadata": {},
   "source": [
    "Alice usually not use website frequently in wednesday & weekend, other people usually have a peak usage on wednesday "
   ]
  },
  {
   "cell_type": "code",
   "execution_count": 21,
   "metadata": {},
   "outputs": [],
   "source": [
    "# let's see how late can people use their browser\n",
    "# oops nothing different\n",
    "alice_session_late = Alice_df[times].applymap(lambda ts: ts.hour).apply(max, axis=1)\n",
    "other_session_late = other_df[times].applymap(lambda ts: ts.hour).apply(max, axis=1)\n"
   ]
  },
  {
   "cell_type": "code",
   "execution_count": 39,
   "metadata": {},
   "outputs": [
    {
     "data": {
      "text/plain": [
       "<matplotlib.axes._subplots.AxesSubplot at 0x1f65077dfd0>"
      ]
     },
     "execution_count": 39,
     "metadata": {},
     "output_type": "execute_result"
    },
    {
     "data": {
      "image/png": "[encoded data removed]",
      "text/plain": [
       "<Figure size 864x432 with 2 Axes>"
      ]
     },
     "metadata": {
      "needs_background": "light"
     },
     "output_type": "display_data"
    }
   ],
   "source": [
    "_, ax = plt.subplots(ncols=2, figsize=(12,6))\n",
    "sns.countplot(other_session_late.astype('int'), ax=ax[0])\n",
    "sns.countplot(alice_session_late.astype('int'), ax=ax[1])"
   ]
  },
  {
   "cell_type": "code",
   "execution_count": null,
   "metadata": {},
   "outputs": [],
   "source": []
  }
 ],
 "metadata": {
  "kernelspec": {
   "display_name": "Python 3",
   "language": "python",
   "name": "python3"
  },
  "language_info": {
   "codemirror_mode": {
    "name": "ipython",
    "version": 3
   },
   "file_extension": ".py",
   "mimetype": "text/x-python",
   "name": "python",
   "nbconvert_exporter": "python",
   "pygments_lexer": "ipython3",
   "version": "3.7.3"
  }
 },
 "nbformat": 4,
 "nbformat_minor": 2
}
