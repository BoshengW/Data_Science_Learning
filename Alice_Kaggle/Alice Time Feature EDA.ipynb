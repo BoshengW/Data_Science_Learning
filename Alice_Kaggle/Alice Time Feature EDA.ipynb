{
 "cells": [
  {
   "cell_type": "code",
   "execution_count": 1,
   "metadata": {},
   "outputs": [],
   "source": [
    "import pandas as pd \n",
    "import numpy as np \n",
    "import scipy\n",
    "import matplotlib.pyplot as plt\n",
    "import seaborn as sns"
   ]
  },
  {
   "cell_type": "code",
   "execution_count": 2,
   "metadata": {},
   "outputs": [],
   "source": [
    "# read data with \n",
    "sites = ['site%d' %i for i in range(1,11)]\n",
    "times = ['time%d' %i for i in range(1,11)]\n",
    "\n",
    "train_df = pd.read_csv('train_sessions.csv', index_col='session_id', parse_dates=times)\n",
    "test_df = pd.read_csv('test_sessions.csv', index_col='session_id', parse_dates=times)\n",
    "pickle_file = 'site_dic.pkl'"
   ]
  },
  {
   "cell_type": "code",
   "execution_count": 3,
   "metadata": {},
   "outputs": [
    {
     "data": {
      "text/plain": [
       "((253561, 21), (82797, 20))"
      ]
     },
     "execution_count": 3,
     "metadata": {},
     "output_type": "execute_result"
    }
   ],
   "source": [
    "train_df.shape, test_df.shape"
   ]
  },
  {
   "cell_type": "markdown",
   "metadata": {},
   "source": [
    "## Data Cleaning First"
   ]
  },
  {
   "cell_type": "code",
   "execution_count": 4,
   "metadata": {},
   "outputs": [],
   "source": [
    "# NaN values\n",
    "train_df[sites] = train_df[sites].fillna(0)\n",
    "train_df[sites] = train_df[sites].astype(int)\n",
    "\n",
    "\n",
    "train_df = train_df.sort_values(by='time1') # remove correlation with data order"
   ]
  },
  {
   "cell_type": "markdown",
   "metadata": {},
   "source": [
    "### Since we know data frame combine with site# & time# \n",
    "### let's see ratio between target and non-target\n"
   ]
  },
  {
   "cell_type": "code",
   "execution_count": 5,
   "metadata": {},
   "outputs": [
    {
     "data": {
      "text/plain": [
       "<matplotlib.axes._subplots.AxesSubplot at 0x1b7e6230ef0>"
      ]
     },
     "execution_count": 5,
     "metadata": {},
     "output_type": "execute_result"
    },
    {
     "data": {
      "image/png": "[encoded data removed]",
      "text/plain": [
       "<Figure size 432x288 with 1 Axes>"
      ]
     },
     "metadata": {
      "needs_background": "light"
     },
     "output_type": "display_data"
    }
   ],
   "source": [
    "sns.countplot(train_df['target']) # this is a imbalance data"
   ]
  },
  {
   "cell_type": "code",
   "execution_count": 6,
   "metadata": {},
   "outputs": [
    {
     "data": {
      "text/plain": [
       "21     123776\n",
       "23      87619\n",
       "782     77055\n",
       "22      58258\n",
       "29      54094\n",
       "167     46405\n",
       "780     43841\n",
       "778     38194\n",
       "52      36085\n",
       "812     35178\n",
       "dtype: int64"
      ]
     },
     "execution_count": 6,
     "metadata": {},
     "output_type": "execute_result"
    }
   ],
   "source": [
    "# Let's see what is the most frequenct website all people usually use\n",
    "top_sites_all = pd.Series(train_df[sites].values.flatten()).value_counts().drop(labels=[0]).sort_values(ascending=False).head(10)\n",
    "top_sites_all"
   ]
  },
  {
   "cell_type": "code",
   "execution_count": 7,
   "metadata": {},
   "outputs": [
    {
     "data": {
      "text/plain": [
       "77     1382\n",
       "80     1354\n",
       "76     1307\n",
       "29      897\n",
       "21      857\n",
       "81      609\n",
       "879     522\n",
       "22      522\n",
       "75      451\n",
       "82      447\n",
       "dtype: int64"
      ]
     },
     "execution_count": 7,
     "metadata": {},
     "output_type": "execute_result"
    }
   ],
   "source": [
    "# Let's see what is most freq website of Alice use\n",
    "Alice_df = train_df[train_df['target']==1]\n",
    "other_df = train_df[train_df['target']==0]\n",
    "top_sites_alice = pd.Series(Alice_df[sites].values.flatten()).value_counts().drop(labels=[0]).sort_values(ascending=False).head(10)\n",
    "top_sites_alice"
   ]
  },
  {
   "cell_type": "code",
   "execution_count": 8,
   "metadata": {},
   "outputs": [
    {
     "data": {
      "text/plain": [
       "<matplotlib.axes._subplots.AxesSubplot at 0x1b7f0c6eef0>"
      ]
     },
     "execution_count": 8,
     "metadata": {},
     "output_type": "execute_result"
    },
    {
     "data": {
      "image/png": "[encoded data removed]",
      "text/plain": [
       "<Figure size 432x288 with 1 Axes>"
      ]
     },
     "metadata": {
      "needs_background": "light"
     },
     "output_type": "display_data"
    }
   ],
   "source": [
    "# Let's see website usage time distribution for different people\n",
    "alice_session_start_time = Alice_df['time1'].apply(lambda ts: ts.hour).values\n",
    "other_session_start_time = other_df['time1'].apply(lambda ts: ts.hour).values\n",
    "# fig, ax = plt.subplots(ncols=2, figsize=(10,6))\n",
    "# ax[0].hist(alice_session_start_time)\n",
    "# ax[0].set_title('Alice_Start_Time')\n",
    "# ax[0].set_xlabel('start time(hr)')\n",
    "\n",
    "# ax[1].hist(other_session_start_time)\n",
    "# ax[1].set_title('Other_Start_Time')\n",
    "# ax[1].set_xlabel('start time(hr)')\n",
    "sns.countplot(other_session_start_time)\n",
    "# compare with alice and other people most people start to search website around 10\n",
    "# however alice usually start serach website at 12-13, and 16-18 looks like in lunch time or after working.\n",
    "# at the work time she doesn't like using website."
   ]
  },
  {
   "cell_type": "code",
   "execution_count": 9,
   "metadata": {},
   "outputs": [
    {
     "data": {
      "text/plain": [
       "<matplotlib.axes._subplots.AxesSubplot at 0x1b7ecad0be0>"
      ]
     },
     "execution_count": 9,
     "metadata": {},
     "output_type": "execute_result"
    },
    {
     "data": {
      "image/png": "[encoded data removed]",
      "text/plain": [
       "<Figure size 432x288 with 1 Axes>"
      ]
     },
     "metadata": {
      "needs_background": "light"
     },
     "output_type": "display_data"
    }
   ],
   "source": [
    "sns.countplot(alice_session_start_time)"
   ]
  },
  {
   "cell_type": "code",
   "execution_count": 10,
   "metadata": {},
   "outputs": [],
   "source": [
    "# let's see how late can people use their browser\n",
    "# oops nothing different\n",
    "alice_session_late = Alice_df[times].applymap(lambda ts: ts.hour).apply(max, axis=1)\n",
    "other_session_late = other_df[times].applymap(lambda ts: ts.hour).apply(max, axis=1)"
   ]
  },
  {
   "cell_type": "code",
   "execution_count": 11,
   "metadata": {},
   "outputs": [
    {
     "data": {
      "text/plain": [
       "<matplotlib.axes._subplots.AxesSubplot at 0x1b7e62f50b8>"
      ]
     },
     "execution_count": 11,
     "metadata": {},
     "output_type": "execute_result"
    },
    {
     "data": {
      "image/png": "[encoded data removed]",
      "text/plain": [
       "<Figure size 432x288 with 1 Axes>"
      ]
     },
     "metadata": {
      "needs_background": "light"
     },
     "output_type": "display_data"
    }
   ],
   "source": [
    "sns.countplot(alice_session_late.astype('int'))"
   ]
  },
  {
   "cell_type": "code",
   "execution_count": 12,
   "metadata": {},
   "outputs": [
    {
     "data": {
      "text/plain": [
       "<matplotlib.axes._subplots.AxesSubplot at 0x1b7ecad06a0>"
      ]
     },
     "execution_count": 12,
     "metadata": {},
     "output_type": "execute_result"
    },
    {
     "data": {
      "image/png": "[encoded data removed]",
      "text/plain": [
       "<Figure size 432x288 with 1 Axes>"
      ]
     },
     "metadata": {
      "needs_background": "light"
     },
     "output_type": "display_data"
    }
   ],
   "source": [
    "sns.countplot(other_session_late.astype('int'))"
   ]
  },
  {
   "cell_type": "code",
   "execution_count": null,
   "metadata": {},
   "outputs": [],
   "source": [
    "# Let's check duration about time feature\n",
    "alice_duration = Alice[times].apply(lambda : )"
   ]
  }
 ],
 "metadata": {
  "kernelspec": {
   "display_name": "Python 3",
   "language": "python",
   "name": "python3"
  },
  "language_info": {
   "codemirror_mode": {
    "name": "ipython",
    "version": 3
   },
   "file_extension": ".py",
   "mimetype": "text/x-python",
   "name": "python",
   "nbconvert_exporter": "python",
   "pygments_lexer": "ipython3",
   "version": "3.7.1"
  }
 },
 "nbformat": 4,
 "nbformat_minor": 2
}
