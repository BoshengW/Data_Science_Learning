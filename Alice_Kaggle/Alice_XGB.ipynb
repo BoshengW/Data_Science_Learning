{
 "cells": [
  {
   "cell_type": "code",
   "execution_count": 1,
   "metadata": {},
   "outputs": [],
   "source": [
    "from scipy import sparse\n",
    "import pandas as pd\n",
    "import pickle\n",
    "from scipy.sparse import hstack\n",
    "from sklearn.feature_extraction.text import CountVectorizer, TfidfVectorizer\n",
    "from sklearn.preprocessing import StandardScaler\n",
    "from sklearn.metrics import roc_auc_score\n",
    "from sklearn.linear_model import LogisticRegression\n",
    "import eli5\n",
    "import numpy as np\n",
    "from sklearn.model_selection import GridSearchCV, StratifiedKFold, cross_val_score,TimeSeriesSplit\n",
    "import warnings\n",
    "from IPython.display import display_html\n",
    "import matplotlib.pyplot as plt\n",
    "from xgboost import XGBClassifier\n",
    "import matplotlib.pyplot as plt\n",
    "from sklearn.model_selection import GridSearchCV, StratifiedKFold, cross_val_score,TimeSeriesSplit\n"
   ]
  },
  {
   "cell_type": "code",
   "execution_count": 2,
   "metadata": {},
   "outputs": [],
   "source": [
    "train_session = sparse.load_npz('train_session.npz')\n",
    "test_session = sparse.load_npz('test_session.npz')"
   ]
  },
  {
   "cell_type": "code",
   "execution_count": 6,
   "metadata": {},
   "outputs": [],
   "source": [
    "train_feats = train_session.tocsr()[:,:-1]\n",
    "train_feats_coomatrix = sparse.coo_matrix(train_session)\n",
    "y_train = train_session.tocsr()[:,-1].toarray()\n",
    "\n",
    "time_split = TimeSeriesSplit(n_splits=10)"
   ]
  },
  {
   "cell_type": "code",
   "execution_count": 7,
   "metadata": {},
   "outputs": [],
   "source": [
    "xgb_train = train_feats[:int(train_session.shape[0]*0.8),:]\n",
    "xgb_train_y = y_train[:int(y_train.shape[0]*0.8)]\n",
    "\n",
    "xgb_test = train_feats[int(train_session.shape[0]*0.8):,:]\n",
    "xgb_test_y = y_train[int(y_train.shape[0]*0.8):]\n",
    "\n",
    "eval_set = [(xgb_train,xgb_train_y),(xgb_test, xgb_test_y)]"
   ]
  },
  {
   "cell_type": "code",
   "execution_count": null,
   "metadata": {},
   "outputs": [],
   "source": [
    "# first let's see how much iteration(# of trees) we need for model\n",
    "eval_metric = ['auc', 'error']\n",
    "model = XGBClassifier(slient=False,\n",
    "                     scale_pos_weight=1,\n",
    "                     learning_rate=0.01,\n",
    "                     colsample_bytree=0.4,\n",
    "                     subsample=0.8,\n",
    "                     objective='binary:logistic',\n",
    "                     n_estimators=1000,\n",
    "                     reg_alpha=0.3,\n",
    "                     max_depth=4,\n",
    "                     gamma=10)\n",
    "\n",
    "\n",
    "model.fit(new_train_addYMD, y_train, eval_metric=eval_metric, eval_set=eval_set, verbose=True)\n",
    "\n",
    "plt.plot(model.evals_result_['validation_0']['auc'],label='train')\n",
    "plt.plot(model.evals_result_['validation_1']['auc'],label='test')\n",
    "plt.legend(loc='upper left')\n",
    "plt.show()"
   ]
  },
  {
   "cell_type": "code",
   "execution_count": null,
   "metadata": {},
   "outputs": [
    {
     "name": "stderr",
     "output_type": "stream",
     "text": [
      "C:\\Users\\900309\\AppData\\Local\\Continuum\\anaconda3\\lib\\site-packages\\sklearn\\model_selection\\_split.py:2053: FutureWarning: You should specify a value for 'cv' instead of relying on the default value. The default value will change from 3 to 5 in version 0.22.\n",
      "  warnings.warn(CV_WARNING, FutureWarning)\n"
     ]
    },
    {
     "name": "stdout",
     "output_type": "stream",
     "text": [
      "Fitting 3 folds for each of 5 candidates, totalling 15 fits\n"
     ]
    },
    {
     "name": "stderr",
     "output_type": "stream",
     "text": [
      "[Parallel(n_jobs=5)]: Using backend LokyBackend with 5 concurrent workers.\n"
     ]
    }
   ],
   "source": [
    "model = XGBClassifier(slient=False,\n",
    "                     scale_pos_weight=1,\n",
    "                     learning_rate=0.01,\n",
    "                     colsample_bytree=0.4,\n",
    "                     subsample=0.8,\n",
    "                     objective='binary:logistic',\n",
    "                     n_estimators=600,\n",
    "                     reg_alpha=0.3,\n",
    "                     gamma=10)\n",
    "\n",
    "params = {'max_depth': [3,5,7,9,11]}\n",
    "xgb = GridSearchCV(model, params, scoring='roc_auc', verbose=1, n_jobs=5)\n",
    "xgb.fit(train_feats_coomatrix,y_train)"
   ]
  },
  {
   "cell_type": "code",
   "execution_count": 13,
   "metadata": {},
   "outputs": [
    {
     "data": {
      "text/plain": [
       "<bound method BaseSearchCV.score of GridSearchCV(cv='warn', error_score='raise-deprecating',\n",
       "       estimator=XGBClassifier(base_score=0.5, booster='gbtree', colsample_bylevel=1,\n",
       "       colsample_bynode=1, colsample_bytree=0.4, gamma=10,\n",
       "       learning_rate=0.01, max_delta_step=0, max_depth=3,\n",
       "       min_child_weight=1, missing=None, n_estimators=600, n_jobs=1,\n",
       "       nthread=None, objective='binary:logistic', random_state=0,\n",
       "       reg_alpha=0.3, reg_lambda=1, scale_pos_weight=1, seed=None,\n",
       "       silent=None, slient=False, subsample=0.8, verbosity=1),\n",
       "       fit_params=None, iid='warn', n_jobs=5,\n",
       "       param_grid={'max_depth': [3, 5, 7, 9, 11]}, pre_dispatch='2*n_jobs',\n",
       "       refit=True, return_train_score='warn', scoring='roc_auc', verbose=1)>"
      ]
     },
     "execution_count": 13,
     "metadata": {},
     "output_type": "execute_result"
    }
   ],
   "source": [
    "xgb.score"
   ]
  },
  {
   "cell_type": "markdown",
   "metadata": {},
   "source": [
    "#### fine tune other components"
   ]
  },
  {
   "cell_type": "code",
   "execution_count": null,
   "metadata": {},
   "outputs": [],
   "source": [
    "params2 = {}"
   ]
  }
 ],
 "metadata": {
  "kernelspec": {
   "display_name": "Python 3",
   "language": "python",
   "name": "python3"
  },
  "language_info": {
   "codemirror_mode": {
    "name": "ipython",
    "version": 3
   },
   "file_extension": ".py",
   "mimetype": "text/x-python",
   "name": "python",
   "nbconvert_exporter": "python",
   "pygments_lexer": "ipython3",
   "version": "3.7.1"
  }
 },
 "nbformat": 4,
 "nbformat_minor": 2
}
