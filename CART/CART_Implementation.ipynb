{
 "cells": [
  {
   "cell_type": "code",
   "execution_count": 2,
   "metadata": {},
   "outputs": [],
   "source": [
    "import numpy as np\n",
    "import pandas as pd\n",
    "import matplotlib.pyplot as plt\n",
    "## CART implementation"
   ]
  },
  {
   "cell_type": "code",
   "execution_count": 3,
   "metadata": {},
   "outputs": [],
   "source": [
    "dataset = [[2.771244718,1.784783929,0],\n",
    "    [1.728571309,1.169761413,0],\n",
    "    [3.678319846,2.81281357,0],\n",
    "    [3.961043357,2.61995032,0],\n",
    "    [2.999208922,2.209014212,0],\n",
    "    [7.497545867,3.162953546,1],\n",
    "    [9.00220326,3.339047188,1],\n",
    "    [7.444542326,0.476683375,1],\n",
    "    [10.12493903,3.234550982,1],\n",
    "    [6.642287351,3.319983761,1]]"
   ]
  },
  {
   "cell_type": "code",
   "execution_count": 4,
   "metadata": {},
   "outputs": [],
   "source": [
    "# input data set is a matrix \n",
    "# this function is used for split the dataset into two different group\n",
    "def gini_gain(groups, class_value):\n",
    "    gini_gain = 0\n",
    "    total_size = sum(len(_group) for _group in groups)\n",
    "    \n",
    "    for group in groups:\n",
    "        if len(group)==0:\n",
    "            continue\n",
    "        size = len(group)\n",
    "        score = 0\n",
    "        group_label = list(row[-1] for row in group)\n",
    "        \n",
    "        for _class in class_value:\n",
    "            prob = group_label.count(_class)/size\n",
    "            score += prob*prob\n",
    "        \n",
    "        gini_gain += (1-score)*(size/total_size)\n",
    "    \n",
    "    return gini_gain\n",
    "\n",
    "\n",
    "def split_node(index, value, dataset):\n",
    "    \"\"\"\n",
    "    dataset: is nested list\n",
    "    index: represents column index\n",
    "    value: represent threshold value\n",
    "    \"\"\"\n",
    "    \n",
    "    left, right = list(),list()\n",
    "    for row in dataset:\n",
    "        if row[index] < value:\n",
    "            left.append(row)\n",
    "        else:\n",
    "            right.append(row)\n",
    "    \n",
    "    return left, right\n",
    "\n",
    "\n",
    "\n",
    "\n",
    "def find_best_split(dataset):\n",
    "    \n",
    "    # initialization\n",
    "    best_index, best_value, best_score, best_group = 0,0,999,None\n",
    "    cols = len(dataset[0])-1\n",
    "    class_label = list(set(i[-1] for i in dataset))\n",
    "    \n",
    "    for index in range(cols):\n",
    "        for row in dataset:\n",
    "            \n",
    "            groups = split_node(index,row[index],dataset)\n",
    "            score = gini_gain(groups, class_label)\n",
    "            if score < best_score:\n",
    "                best_score = score\n",
    "                best_index = index\n",
    "                best_value = row[index]\n",
    "                best_group = groups\n",
    "                \n",
    "    print('Split X%d < %.3f - score: %.3f' %(best_index,best_value,best_score))\n",
    "    return {'index': best_index, 'value':best_value,'groups':best_group}\n",
    "\n",
    "def fit(train, max_depth=1, min_sample=1):\n",
    "    tree = find_best_split(dataset)\n",
    "    create_node(tree, max_depth, min_sample, 1)\n",
    "    return tree\n",
    "\n",
    "def to_terminal(group):\n",
    "    # get label\n",
    "    label = list(row[-1] for row in group)\n",
    "    # find the class with most element as output\n",
    "    return max(set(label),key=label.count)\n",
    "\n",
    "def create_node(node, max_depth, min_sample, depth):\n",
    "    left, right = node['groups']\n",
    "    del node['groups']\n",
    "    # how to stop the recrusion\n",
    "    if not left or not right:\n",
    "        # terminate the node\n",
    "        node['left'] = node['right'] = to_terminal(left+right)\n",
    "        return\n",
    "    \n",
    "    if depth >= max_depth:\n",
    "        # terminate the node\n",
    "        node['left'], node['right'] = to_terminal(left), to_terminal(right)\n",
    "        return\n",
    "           \n",
    "    if len(left) <= min_sample:\n",
    "        node['left'] = to_terminal(left)\n",
    "    else:\n",
    "        node['left'] = find_best_split(left)\n",
    "        create_node(node['left'], max_depth, min_sample, depth+1)\n",
    "    \n",
    "    if len(right)<=min_sample:\n",
    "        node['right'] = to_terminal(right)\n",
    "        \n",
    "    else:\n",
    "        node['right'] = find_best_split(right)\n",
    "        create_node(node['right'], max_depth, min_sample, depth+1)\n",
    "    \n",
    " "
   ]
  },
  {
   "cell_type": "code",
   "execution_count": 29,
   "metadata": {},
   "outputs": [],
   "source": [
    "def predict(tree, x):\n",
    "    \n",
    "    cart_mdl = tree\n",
    "    # x is a sample in dataset\n",
    "    while isinstance(cart_mdl, dict):\n",
    "        threshold = cart_mdl['value']\n",
    "        index = cart_mdl['index']\n",
    "        \n",
    "        if x[index]<threshold:\n",
    "            cart_mdl = cart_mdl['left']\n",
    "        else:\n",
    "            cart_mdl = cart_mdl['right']\n",
    "        \n",
    "    pred_x = cart_mdl\n",
    "    return pred_x"
   ]
  },
  {
   "cell_type": "code",
   "execution_count": 36,
   "metadata": {},
   "outputs": [
    {
     "name": "stdout",
     "output_type": "stream",
     "text": [
      "Split X0 < 6.642 - score: 0.000\n",
      "Split X0 < 2.771 - score: 0.000\n",
      "Split X0 < 7.498 - score: 0.000\n"
     ]
    }
   ],
   "source": [
    "root = fit(dataset,2,1)"
   ]
  },
  {
   "cell_type": "code",
   "execution_count": 6,
   "metadata": {},
   "outputs": [
    {
     "data": {
      "text/plain": [
       "<matplotlib.collections.PathCollection at 0x1b16c287be0>"
      ]
     },
     "execution_count": 6,
     "metadata": {},
     "output_type": "execute_result"
    },
    {
     "data": {
      "image/png": "[encoded data removed]",
      "text/plain": [
       "<Figure size 432x288 with 1 Axes>"
      ]
     },
     "metadata": {
      "needs_background": "light"
     },
     "output_type": "display_data"
    }
   ],
   "source": [
    "data = np.array(dataset)\n",
    "x = data[:,0]\n",
    "y = data[:,1]\n",
    "c = data[:,2]\n",
    "\n",
    "plt.scatter(x,y,c=c)"
   ]
  },
  {
   "cell_type": "code",
   "execution_count": 35,
   "metadata": {},
   "outputs": [
    {
     "data": {
      "text/plain": [
       "array([7.49754587, 3.16295355, 1.        ])"
      ]
     },
     "execution_count": 35,
     "metadata": {},
     "output_type": "execute_result"
    }
   ],
   "source": [
    "\n",
    "data[5,:]"
   ]
  },
  {
   "cell_type": "code",
   "execution_count": 28,
   "metadata": {},
   "outputs": [
    {
     "data": {
      "text/plain": [
       "0"
      ]
     },
     "execution_count": 28,
     "metadata": {},
     "output_type": "execute_result"
    }
   ],
   "source": [
    "root2['left']"
   ]
  },
  {
   "cell_type": "code",
   "execution_count": 20,
   "metadata": {},
   "outputs": [
    {
     "name": "stdout",
     "output_type": "stream",
     "text": [
      "{'index': 0, 'value': 6.642287351, 'left': {'index': 0, 'value': 2.771244718, 'left': 0, 'right': 0}, 'right': {'index': 0, 'value': 7.497545867, 'left': 1, 'right': 1}}\n",
      "{'index': 0, 'value': 2.771244718, 'left': 0, 'right': 0}\n"
     ]
    }
   ],
   "source": [
    "while isinstance(root2,dict):\n",
    "    print(root2)\n",
    "    root2 = root2['left']\n",
    "    \n",
    "    \n",
    "    \n",
    "    "
   ]
  },
  {
   "cell_type": "code",
   "execution_count": null,
   "metadata": {},
   "outputs": [],
   "source": []
  }
 ],
 "metadata": {
  "kernelspec": {
   "display_name": "Python 3",
   "language": "python",
   "name": "python3"
  },
  "language_info": {
   "codemirror_mode": {
    "name": "ipython",
    "version": 3
   },
   "file_extension": ".py",
   "mimetype": "text/x-python",
   "name": "python",
   "nbconvert_exporter": "python",
   "pygments_lexer": "ipython3",
   "version": "3.7.3"
  }
 },
 "nbformat": 4,
 "nbformat_minor": 2
}
